{
 "cells": [
  {
   "cell_type": "markdown",
   "metadata": {},
   "source": [
    "# Graficación de Polinomios con Numpy"
   ]
  },
  {
   "cell_type": "code",
   "execution_count": 3,
   "metadata": {},
   "outputs": [],
   "source": [
    "# Importa libreria numpy, libreria polinomial y Matploid\n",
    "import numpy as np \n",
    "import matplotlib.pyplot as plt\n"
   ]
  },
  {
   "cell_type": "code",
   "execution_count": 5,
   "metadata": {},
   "outputs": [
    {
     "name": "stdout",
     "output_type": "stream",
     "text": [
      "[0.86174923 0.09811556 0.17045588 0.89455665 0.00854069 0.7918907\n",
      " 0.96741477 0.64169221 0.97358779 0.87019415]\n",
      "[0.10847464 0.72886519 0.11134243 0.21996698 0.4390265  0.67053751\n",
      " 0.89531141 0.89235901 0.67635104 0.39133571]\n"
     ]
    }
   ],
   "source": [
    "# Crea arreglos aleatorios de 10 elementos\n",
    "v1=np.random.rand(10)\n",
    "v2=np.random.rand(10)\n",
    "# Despliega vectores\n",
    "print(v1)\n",
    "print(v2)"
   ]
  },
  {
   "cell_type": "code",
   "execution_count": 6,
   "metadata": {},
   "outputs": [],
   "source": [
    "# Crea una secuencia de valores con separaciones iguales\n",
    "secuencia=np.linspace(v1.min(), v1.max(),num=len(v1)*100)"
   ]
  },
  {
   "cell_type": "code",
   "execution_count": 7,
   "metadata": {},
   "outputs": [],
   "source": [
    "# Determina los coeficientes de un polinomio de grado 4 al que se ajusta los datos\n",
    "coefs=np.polyfit(v1,v2,3)"
   ]
  },
  {
   "cell_type": "code",
   "execution_count": 8,
   "metadata": {},
   "outputs": [],
   "source": [
    "# Evalua polinomio en cada valor generado de la secuencia\n",
    "secuencia_polinomio=np.polyval(coefs,secuencia)"
   ]
  },
  {
   "cell_type": "code",
   "execution_count": 9,
   "metadata": {},
   "outputs": [
    {
     "data": {
      "image/png": "[encoded data removed]",
      "text/plain": [
       "<Figure size 640x480 with 1 Axes>"
      ]
     },
     "metadata": {},
     "output_type": "display_data"
    }
   ],
   "source": [
    "# Grafica la prueba del polinimio\n",
    "plt.plot(secuencia,secuencia_polinomio)\n",
    "# Muestra\n",
    "plt.show()"
   ]
  },
  {
   "cell_type": "markdown",
   "metadata": {},
   "source": [
    "# Calculo del determinante"
   ]
  },
  {
   "cell_type": "code",
   "execution_count": 25,
   "metadata": {},
   "outputs": [
    {
     "name": "stdout",
     "output_type": "stream",
     "text": [
      "Matriz:\n",
      " [[2 4]\n",
      " [5 7]]\n"
     ]
    }
   ],
   "source": [
    "\n",
    "mat= np.matrix([[2, 4], [5, 7]])\n",
    "# Despliega matriz\n",
    "print(\"Matriz:\\n\", mat)\n"
   ]
  },
  {
   "cell_type": "code",
   "execution_count": 26,
   "metadata": {},
   "outputs": [
    {
     "name": "stdout",
     "output_type": "stream",
     "text": [
      "Determinante -5.999999999999998\n"
     ]
    }
   ],
   "source": [
    "print(\"Determinante\",np.linalg.det(mat))"
   ]
  },
  {
   "cell_type": "code",
   "execution_count": 18,
   "metadata": {},
   "outputs": [],
   "source": [
    "#Calcula el rango de una matriz\n",
    "# Importa libreria para hallar el rango de una matriz\n",
    "from numpy.linalg import matrix_rank"
   ]
  },
  {
   "cell_type": "code",
   "execution_count": 23,
   "metadata": {},
   "outputs": [
    {
     "name": "stdout",
     "output_type": "stream",
     "text": [
      "Matriz:\n",
      " [[5 3 1]\n",
      " [5 3 1]\n",
      " [1 0 5]]\n",
      "Rango  2\n"
     ]
    }
   ],
   "source": [
    "# crea matriz 3x3\n",
    "mat= np.array([[5,3,1],[5,3,1],[1,0,5]])\n",
    "print(\"Matriz:\\n\",mat)\n",
    "print(\"Rango \",matrix_rank(mat))"
   ]
  },
  {
   "cell_type": "markdown",
   "metadata": {},
   "source": [
    "# Matriz Inversa"
   ]
  },
  {
   "cell_type": "code",
   "execution_count": 27,
   "metadata": {},
   "outputs": [
    {
     "name": "stdout",
     "output_type": "stream",
     "text": [
      "Matriz Original :\n",
      " [[2 4]\n",
      " [5 7]]\n"
     ]
    }
   ],
   "source": [
    "# Crea una matriz 2x2 \n",
    "mat = np.matrix([[2,4],[5,7]])\n",
    "# Despliega matriz original\n",
    "print(\"Matriz Original :\\n\", mat )"
   ]
  },
  {
   "cell_type": "code",
   "execution_count": 30,
   "metadata": {},
   "outputs": [
    {
     "name": "stdout",
     "output_type": "stream",
     "text": [
      "Matriz Inversa: \n",
      " [[-1.16666667  0.66666667]\n",
      " [ 0.83333333 -0.33333333]]\n"
     ]
    }
   ],
   "source": [
    "# Calcula matriz inversa \n",
    "inversa = np.linalg.inv(mat)\n",
    "print(\"Matriz Inversa: \\n\",inversa)"
   ]
  },
  {
   "cell_type": "code",
   "execution_count": 33,
   "metadata": {},
   "outputs": [
    {
     "name": "stdout",
     "output_type": "stream",
     "text": [
      "[[1.0000000e+00 0.0000000e+00]\n",
      " [4.4408921e-16 1.0000000e+00]]\n",
      "[[ 1.00000000e+00  9.99200722e-16]\n",
      " [-1.66533454e-16  1.00000000e+00]]\n"
     ]
    }
   ],
   "source": [
    "# Verificación \n",
    "print(mat*inversa)\n",
    "print(inversa*mat)\n"
   ]
  },
  {
   "cell_type": "markdown",
   "metadata": {},
   "source": [
    "# Solución de Sistemas de Ecuaciones Lineales"
   ]
  },
  {
   "cell_type": "code",
   "execution_count": 35,
   "metadata": {},
   "outputs": [
    {
     "name": "stdout",
     "output_type": "stream",
     "text": [
      "Matriz A:\n",
      " [[1 1]\n",
      " [3 2]]\n"
     ]
    }
   ],
   "source": [
    "# Representacion matricial de un sistema de ecuaciones lineales\n",
    "# Ax=b\n",
    "# A: Es la matriz de coeficientes del sistema\n",
    "# X: Es el vector de columna de variables\n",
    "# b: Vector de columna de terminos independientes\n",
    "# Resuelva el siguiente sistema de ecuaciones\n",
    "# x+y=200\n",
    "# 3x+2y=450\n",
    "# Crea la matriz de coeficientes del sistema\n",
    "A=np.matrix([[1,1],[3,2]])\n",
    "print(\"Matriz A:\\n\",A)\n"
   ]
  },
  {
   "cell_type": "code",
   "execution_count": 36,
   "metadata": {},
   "outputs": [
    {
     "name": "stdout",
     "output_type": "stream",
     "text": [
      "Vector B\n",
      " [[200]\n",
      " [450]]\n"
     ]
    }
   ],
   "source": [
    "# Crea vector columna de terminos independientes\n",
    "b=np.array([[200],[450]])\n",
    "print(\"Vector B\\n\",b)"
   ]
  },
  {
   "cell_type": "code",
   "execution_count": 39,
   "metadata": {},
   "outputs": [
    {
     "name": "stdout",
     "output_type": "stream",
     "text": [
      "Vector Solución \n",
      " [[ 50.]\n",
      " [150.]]\n"
     ]
    }
   ],
   "source": [
    "# Resuelve el sistema de ecuaciones lineales\n",
    "x=np.linalg.solve(A,b)\n",
    "print(\"Vector Solución \\n\",x)"
   ]
  },
  {
   "cell_type": "code",
   "execution_count": 41,
   "metadata": {},
   "outputs": [
    {
     "name": "stdout",
     "output_type": "stream",
     "text": [
      "Vector solución x:\n",
      " [3. 1.]\n"
     ]
    }
   ],
   "source": [
    "# Resuela el siguiente sistema de ecuaciones\n",
    "# 3x+y=10\n",
    "# -2x+3y=-5\n",
    "# Matriz de coeficientes\n",
    "A = np.array([[3, 1], [-2, 3]])\n",
    "\n",
    "# Vector columna de términos independientes\n",
    "b = np.array([10, -3])\n",
    "\n",
    "# Resolución del sistema de ecuaciones\n",
    "x = np.linalg.solve(A, b)\n",
    "\n",
    "# Mostrar la solución\n",
    "print(\"Vector solución x:\\n\", x)"
   ]
  }
 ],
 "metadata": {
  "kernelspec": {
   "display_name": ".venv",
   "language": "python",
   "name": "python3"
  },
  "language_info": {
   "codemirror_mode": {
    "name": "ipython",
    "version": 3
   },
   "file_extension": ".py",
   "mimetype": "text/x-python",
   "name": "python",
   "nbconvert_exporter": "python",
   "pygments_lexer": "ipython3",
   "version": "3.12.6"
  }
 },
 "nbformat": 4,
 "nbformat_minor": 2
}
